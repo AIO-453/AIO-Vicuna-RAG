{
  "nbformat": 4,
  "nbformat_minor": 0,
  "metadata": {
    "colab": {
      "provenance": [],
      "gpuType": "T4"
    },
    "kernelspec": {
      "name": "python3",
      "display_name": "Python 3"
    },
    "language_info": {
      "name": "python"
    },
    "accelerator": "GPU",
    "widgets": {
      "application/vnd.jupyter.widget-state+json": {
        "f57df06c9c104002a24f59cf4a49aaaa": {
          "model_module": "@jupyter-widgets/controls",
          "model_name": "HBoxModel",
          "model_module_version": "1.5.0",
          "state": {
            "_dom_classes": [],
            "_model_module": "@jupyter-widgets/controls",
            "_model_module_version": "1.5.0",
            "_model_name": "HBoxModel",
            "_view_count": null,
            "_view_module": "@jupyter-widgets/controls",
            "_view_module_version": "1.5.0",
            "_view_name": "HBoxView",
            "box_style": "",
            "children": [
              "IPY_MODEL_94a651efc03c434dbc803ea6c5344014",
              "IPY_MODEL_d321e0b642724791adfd4f9490aa11a1",
              "IPY_MODEL_d0236951eb1d4d69961c00a8d72b61c4"
            ],
            "layout": "IPY_MODEL_bd31bb313cc640a2b673b847eefec643"
          }
        },
        "94a651efc03c434dbc803ea6c5344014": {
          "model_module": "@jupyter-widgets/controls",
          "model_name": "HTMLModel",
          "model_module_version": "1.5.0",
          "state": {
            "_dom_classes": [],
            "_model_module": "@jupyter-widgets/controls",
            "_model_module_version": "1.5.0",
            "_model_name": "HTMLModel",
            "_view_count": null,
            "_view_module": "@jupyter-widgets/controls",
            "_view_module_version": "1.5.0",
            "_view_name": "HTMLView",
            "description": "",
            "description_tooltip": null,
            "layout": "IPY_MODEL_eb03bd82c16f4e87bd7365f002c1b933",
            "placeholder": "​",
            "style": "IPY_MODEL_fd78b71edf724e76803712f592f277c4",
            "value": "Loading checkpoint shards: 100%"
          }
        },
        "d321e0b642724791adfd4f9490aa11a1": {
          "model_module": "@jupyter-widgets/controls",
          "model_name": "FloatProgressModel",
          "model_module_version": "1.5.0",
          "state": {
            "_dom_classes": [],
            "_model_module": "@jupyter-widgets/controls",
            "_model_module_version": "1.5.0",
            "_model_name": "FloatProgressModel",
            "_view_count": null,
            "_view_module": "@jupyter-widgets/controls",
            "_view_module_version": "1.5.0",
            "_view_name": "ProgressView",
            "bar_style": "success",
            "description": "",
            "description_tooltip": null,
            "layout": "IPY_MODEL_0fd7cac1af104a66a50f81b119841bc2",
            "max": 2,
            "min": 0,
            "orientation": "horizontal",
            "style": "IPY_MODEL_7ff20f839c86470c9bd978e7acce4647",
            "value": 2
          }
        },
        "d0236951eb1d4d69961c00a8d72b61c4": {
          "model_module": "@jupyter-widgets/controls",
          "model_name": "HTMLModel",
          "model_module_version": "1.5.0",
          "state": {
            "_dom_classes": [],
            "_model_module": "@jupyter-widgets/controls",
            "_model_module_version": "1.5.0",
            "_model_name": "HTMLModel",
            "_view_count": null,
            "_view_module": "@jupyter-widgets/controls",
            "_view_module_version": "1.5.0",
            "_view_name": "HTMLView",
            "description": "",
            "description_tooltip": null,
            "layout": "IPY_MODEL_88fa52c4322f4a7ba076d8091ff85ab2",
            "placeholder": "​",
            "style": "IPY_MODEL_60923512e16448c6a22f1de7d62e1c87",
            "value": " 2/2 [00:57&lt;00:00, 26.34s/it]"
          }
        },
        "bd31bb313cc640a2b673b847eefec643": {
          "model_module": "@jupyter-widgets/base",
          "model_name": "LayoutModel",
          "model_module_version": "1.2.0",
          "state": {
            "_model_module": "@jupyter-widgets/base",
            "_model_module_version": "1.2.0",
            "_model_name": "LayoutModel",
            "_view_count": null,
            "_view_module": "@jupyter-widgets/base",
            "_view_module_version": "1.2.0",
            "_view_name": "LayoutView",
            "align_content": null,
            "align_items": null,
            "align_self": null,
            "border": null,
            "bottom": null,
            "display": null,
            "flex": null,
            "flex_flow": null,
            "grid_area": null,
            "grid_auto_columns": null,
            "grid_auto_flow": null,
            "grid_auto_rows": null,
            "grid_column": null,
            "grid_gap": null,
            "grid_row": null,
            "grid_template_areas": null,
            "grid_template_columns": null,
            "grid_template_rows": null,
            "height": null,
            "justify_content": null,
            "justify_items": null,
            "left": null,
            "margin": null,
            "max_height": null,
            "max_width": null,
            "min_height": null,
            "min_width": null,
            "object_fit": null,
            "object_position": null,
            "order": null,
            "overflow": null,
            "overflow_x": null,
            "overflow_y": null,
            "padding": null,
            "right": null,
            "top": null,
            "visibility": null,
            "width": null
          }
        },
        "eb03bd82c16f4e87bd7365f002c1b933": {
          "model_module": "@jupyter-widgets/base",
          "model_name": "LayoutModel",
          "model_module_version": "1.2.0",
          "state": {
            "_model_module": "@jupyter-widgets/base",
            "_model_module_version": "1.2.0",
            "_model_name": "LayoutModel",
            "_view_count": null,
            "_view_module": "@jupyter-widgets/base",
            "_view_module_version": "1.2.0",
            "_view_name": "LayoutView",
            "align_content": null,
            "align_items": null,
            "align_self": null,
            "border": null,
            "bottom": null,
            "display": null,
            "flex": null,
            "flex_flow": null,
            "grid_area": null,
            "grid_auto_columns": null,
            "grid_auto_flow": null,
            "grid_auto_rows": null,
            "grid_column": null,
            "grid_gap": null,
            "grid_row": null,
            "grid_template_areas": null,
            "grid_template_columns": null,
            "grid_template_rows": null,
            "height": null,
            "justify_content": null,
            "justify_items": null,
            "left": null,
            "margin": null,
            "max_height": null,
            "max_width": null,
            "min_height": null,
            "min_width": null,
            "object_fit": null,
            "object_position": null,
            "order": null,
            "overflow": null,
            "overflow_x": null,
            "overflow_y": null,
            "padding": null,
            "right": null,
            "top": null,
            "visibility": null,
            "width": null
          }
        },
        "fd78b71edf724e76803712f592f277c4": {
          "model_module": "@jupyter-widgets/controls",
          "model_name": "DescriptionStyleModel",
          "model_module_version": "1.5.0",
          "state": {
            "_model_module": "@jupyter-widgets/controls",
            "_model_module_version": "1.5.0",
            "_model_name": "DescriptionStyleModel",
            "_view_count": null,
            "_view_module": "@jupyter-widgets/base",
            "_view_module_version": "1.2.0",
            "_view_name": "StyleView",
            "description_width": ""
          }
        },
        "0fd7cac1af104a66a50f81b119841bc2": {
          "model_module": "@jupyter-widgets/base",
          "model_name": "LayoutModel",
          "model_module_version": "1.2.0",
          "state": {
            "_model_module": "@jupyter-widgets/base",
            "_model_module_version": "1.2.0",
            "_model_name": "LayoutModel",
            "_view_count": null,
            "_view_module": "@jupyter-widgets/base",
            "_view_module_version": "1.2.0",
            "_view_name": "LayoutView",
            "align_content": null,
            "align_items": null,
            "align_self": null,
            "border": null,
            "bottom": null,
            "display": null,
            "flex": null,
            "flex_flow": null,
            "grid_area": null,
            "grid_auto_columns": null,
            "grid_auto_flow": null,
            "grid_auto_rows": null,
            "grid_column": null,
            "grid_gap": null,
            "grid_row": null,
            "grid_template_areas": null,
            "grid_template_columns": null,
            "grid_template_rows": null,
            "height": null,
            "justify_content": null,
            "justify_items": null,
            "left": null,
            "margin": null,
            "max_height": null,
            "max_width": null,
            "min_height": null,
            "min_width": null,
            "object_fit": null,
            "object_position": null,
            "order": null,
            "overflow": null,
            "overflow_x": null,
            "overflow_y": null,
            "padding": null,
            "right": null,
            "top": null,
            "visibility": null,
            "width": null
          }
        },
        "7ff20f839c86470c9bd978e7acce4647": {
          "model_module": "@jupyter-widgets/controls",
          "model_name": "ProgressStyleModel",
          "model_module_version": "1.5.0",
          "state": {
            "_model_module": "@jupyter-widgets/controls",
            "_model_module_version": "1.5.0",
            "_model_name": "ProgressStyleModel",
            "_view_count": null,
            "_view_module": "@jupyter-widgets/base",
            "_view_module_version": "1.2.0",
            "_view_name": "StyleView",
            "bar_color": null,
            "description_width": ""
          }
        },
        "88fa52c4322f4a7ba076d8091ff85ab2": {
          "model_module": "@jupyter-widgets/base",
          "model_name": "LayoutModel",
          "model_module_version": "1.2.0",
          "state": {
            "_model_module": "@jupyter-widgets/base",
            "_model_module_version": "1.2.0",
            "_model_name": "LayoutModel",
            "_view_count": null,
            "_view_module": "@jupyter-widgets/base",
            "_view_module_version": "1.2.0",
            "_view_name": "LayoutView",
            "align_content": null,
            "align_items": null,
            "align_self": null,
            "border": null,
            "bottom": null,
            "display": null,
            "flex": null,
            "flex_flow": null,
            "grid_area": null,
            "grid_auto_columns": null,
            "grid_auto_flow": null,
            "grid_auto_rows": null,
            "grid_column": null,
            "grid_gap": null,
            "grid_row": null,
            "grid_template_areas": null,
            "grid_template_columns": null,
            "grid_template_rows": null,
            "height": null,
            "justify_content": null,
            "justify_items": null,
            "left": null,
            "margin": null,
            "max_height": null,
            "max_width": null,
            "min_height": null,
            "min_width": null,
            "object_fit": null,
            "object_position": null,
            "order": null,
            "overflow": null,
            "overflow_x": null,
            "overflow_y": null,
            "padding": null,
            "right": null,
            "top": null,
            "visibility": null,
            "width": null
          }
        },
        "60923512e16448c6a22f1de7d62e1c87": {
          "model_module": "@jupyter-widgets/controls",
          "model_name": "DescriptionStyleModel",
          "model_module_version": "1.5.0",
          "state": {
            "_model_module": "@jupyter-widgets/controls",
            "_model_module_version": "1.5.0",
            "_model_name": "DescriptionStyleModel",
            "_view_count": null,
            "_view_module": "@jupyter-widgets/base",
            "_view_module_version": "1.2.0",
            "_view_name": "StyleView",
            "description_width": ""
          }
        }
      }
    }
  },
  "cells": [
    {
      "cell_type": "markdown",
      "source": [
        "## **1. Install and import libraries**"
      ],
      "metadata": {
        "id": "S28z6WgmyP72"
      }
    },
    {
      "cell_type": "code",
      "execution_count": null,
      "metadata": {
        "collapsed": true,
        "id": "qSJCp-v7xMDb"
      },
      "outputs": [],
      "source": [
        "!pip install -q transformers==4.41.2\n",
        "!pip install -q bitsandbytes==0.43.1\n",
        "!pip install -q accelerate==0.31.0"
      ]
    },
    {
      "cell_type": "code",
      "source": [
        "import torch\n",
        "\n",
        "from transformers import BitsAndBytesConfig\n",
        "from transformers import AutoTokenizer, AutoModelForCausalLM, pipeline\n"
      ],
      "metadata": {
        "id": "RIpfVD8QyRHY"
      },
      "execution_count": null,
      "outputs": []
    },
    {
      "cell_type": "markdown",
      "source": [
        "# **2. Set up model ID and quantization config**"
      ],
      "metadata": {
        "id": "rY8WesvhzXTh"
      }
    },
    {
      "cell_type": "code",
      "source": [
        "MODEL_NAME = \"lmsys/vicuna-7b-v1.5\"\n",
        "\n",
        "# Sử dụng kỹ thuật quantile lượng tự hóa giảm kích thước mô hình\n",
        "nf4_config = BitsAndBytesConfig(\n",
        "    load_in_4bit=True,\n",
        "    bnb_4bit_quant_type=\"nf4\",\n",
        "    bnb_4bit_use_double_quant=True,\n",
        "    bnb_4bit_compute_dtype=torch.bfloat16\n",
        ")\n"
      ],
      "metadata": {
        "id": "_xTIClBQy5XO"
      },
      "execution_count": null,
      "outputs": []
    },
    {
      "cell_type": "markdown",
      "source": [
        "# **3. Install and load model**"
      ],
      "metadata": {
        "id": "dabaLB83z7mm"
      }
    },
    {
      "cell_type": "code",
      "source": [
        "# Load tham số mode vào và tokenizer\n",
        "model = AutoModelForCausalLM.from_pretrained(\n",
        "    MODEL_NAME,\n",
        "    quantization_config=nf4_config,\n",
        "    low_cpu_mem_usage=True\n",
        ")\n",
        "tokenizer = AutoTokenizer.from_pretrained(MODEL_NAME)\n"
      ],
      "metadata": {
        "colab": {
          "base_uri": "https://localhost:8080/",
          "height": 138,
          "referenced_widgets": [
            "f57df06c9c104002a24f59cf4a49aaaa",
            "94a651efc03c434dbc803ea6c5344014",
            "d321e0b642724791adfd4f9490aa11a1",
            "d0236951eb1d4d69961c00a8d72b61c4",
            "bd31bb313cc640a2b673b847eefec643",
            "eb03bd82c16f4e87bd7365f002c1b933",
            "fd78b71edf724e76803712f592f277c4",
            "0fd7cac1af104a66a50f81b119841bc2",
            "7ff20f839c86470c9bd978e7acce4647",
            "88fa52c4322f4a7ba076d8091ff85ab2",
            "60923512e16448c6a22f1de7d62e1c87"
          ]
        },
        "collapsed": true,
        "id": "j4hGHXga0BZN",
        "outputId": "ee0ba9a5-9cfc-4acb-9f3e-d8b07346ce00"
      },
      "execution_count": null,
      "outputs": [
        {
          "output_type": "display_data",
          "data": {
            "text/plain": [
              "Loading checkpoint shards:   0%|          | 0/2 [00:00<?, ?it/s]"
            ],
            "application/vnd.jupyter.widget-view+json": {
              "version_major": 2,
              "version_minor": 0,
              "model_id": "f57df06c9c104002a24f59cf4a49aaaa"
            }
          },
          "metadata": {}
        },
        {
          "output_type": "stream",
          "name": "stderr",
          "text": [
            "/usr/local/lib/python3.10/dist-packages/transformers/generation/configuration_utils.py:515: UserWarning: `do_sample` is set to `False`. However, `temperature` is set to `0.9` -- this flag is only used in sample-based generation modes. You should set `do_sample=True` or unset `temperature`. This was detected when initializing the generation config instance, which means the corresponding file may hold incorrect parameterization and should be fixed.\n",
            "  warnings.warn(\n",
            "/usr/local/lib/python3.10/dist-packages/transformers/generation/configuration_utils.py:520: UserWarning: `do_sample` is set to `False`. However, `top_p` is set to `0.6` -- this flag is only used in sample-based generation modes. You should set `do_sample=True` or unset `top_p`. This was detected when initializing the generation config instance, which means the corresponding file may hold incorrect parameterization and should be fixed.\n",
            "  warnings.warn(\n"
          ]
        }
      ]
    },
    {
      "cell_type": "code",
      "source": [
        "model_pipeline = pipeline(\n",
        "    \"text-generation\",\n",
        "    model=model,\n",
        "    tokenizer=tokenizer,\n",
        "    max_new_tokens=512,\n",
        "    pad_token_id=tokenizer.eos_token_id,\n",
        "    device_map=\"auto\"\n",
        ")"
      ],
      "metadata": {
        "id": "hyapX4fx2hek"
      },
      "execution_count": null,
      "outputs": []
    },
    {
      "cell_type": "markdown",
      "source": [
        "# **4. Chat with model**"
      ],
      "metadata": {
        "id": "TH_wgTlt0o2c"
      }
    },
    {
      "cell_type": "code",
      "source": [
        "device = 'cuda' if torch.cuda.is_available() else 'cpu'"
      ],
      "metadata": {
        "id": "zwC1DVT628Ma"
      },
      "execution_count": null,
      "outputs": []
    },
    {
      "cell_type": "code",
      "source": [
        "promt = \"\"\"\n",
        "một cộng một bằng bao nhiêu\n",
        "\"\"\"\n",
        "model_inputs = tokenizer(promt, return_tensors=\"pt\").to(device)\n",
        "generated_ids = model.generate(**model_inputs)[0]\n",
        "answer = tokenizer.decode(generated_ids, skip_special_tokens=True)\n",
        "answer.split('\\n\\n')[1]"
      ],
      "metadata": {
        "colab": {
          "base_uri": "https://localhost:8080/",
          "height": 1000
        },
        "id": "ku7rjYru0oZP",
        "outputId": "12ea36e8-cab4-44ce-c939-c6eec7d051bf"
      },
      "execution_count": null,
      "outputs": [
        {
          "output_type": "execute_result",
          "data": {
            "text/plain": [
              "'1. Đưa ra một số phương trình tương đối với các đại lượng tương đối với nhau.\\n2. Xác định một đại lượng tương đối với một đại lượng khác.\\n3. Xác định một đại lượng tương đối với một đại lượng khác dưới một đại lượng chung.\\n4. Xác định một đại lượng tương đối với một đại lượng khác dưới một đại lượng chung và so sánh với một đại lượng khác.\\n5. Xác định một đại lượng tương đối với một đại lượng khác dưới một đại lượng chung và so sánh với một đại lượng khác dưới một đại lượng khác.\\n6. Xác định một đại lượng tương đối với một đại lượng khác dưới một đại lượng chung và so sánh với một đại lượng khác dưới một đại lượng khác dưới một đại lượng khác.\\n7. Xác định một đại lượng tương đối với một đại lượng khác dưới một đại lượng chung và so sánh với một đại lượng khác dưới một đại lượng khác dưới một đại lượng khác.\\n8. Xác định một đại lượng tương đối với một đại lượng khác dưới một đại lượng chung và so sánh với một đại lượng khác dưới một đại lượng khác dưới một đại lượng khác.\\n9. Xác định một đại lượng tương đối với một đại lượng khác dưới một đại lượng chung và so sánh với một đại lượng khác dưới một đại lượng khác dưới một đại lượng khác.\\n10. Xác định một đại lượng tương đối với một đại lượng khác dưới một đại lượng chung và so sánh với một đại lượng khác dưới một đại lượng khác dưới một đại lượng khác.\\n11. Xác định một đại lượng tương đối với một đại lượng khác dưới một đại lượng chung và so sánh với một đại lượng khác dưới một đại lượng khác dưới một đại lượng khác.\\n12. Xác định một đại lượng tương đối với một đại lượng khác dưới một đại lượng chung và so sánh với một đại lượng khác dưới một đại lượng khác dưới một đại lượng khác.\\n13. Xác định một đại lượng tương đối với một đại lượng khác dưới một đại lượng chung và so sánh với một đại lượng khác dưới một đại lượng khác dưới một đại lượng khác.\\n14. Xác định một đại lượng tương đối với một đại lượng khác dưới một đại lượng chung và so sánh với một đại lượng khác dưới một đại lượng khác dưới một đại lượng khác.\\n15. Xác định một đại lượng tương đối với một đại lượng khác dưới một đại lượng chung và so sánh với một đại lượng khác dưới một đại lượng khác dưới một đại lượng khác.\\n16. Xác định một đại lượng tương đối với một đại lượng khác dưới một đại lượng chung và so sánh với một đại lượng khác dưới một đại lượng khác dưới một đại lượng khác.\\n17. Xác định một đại lượng tương đối với một đại lượng khác dưới một đại lượng chung và so sánh với một đại lượng khác dưới một đại lượng khác dưới một đại lượng khác.\\n18. Xác định một đại lượng tương đối với một đại lượng khác dưới một đại lượng chung và so sánh với một đại lượng khác dưới một đại lượng khác dưới một đại lượng khác.\\n19. Xác định một đại lượng tương đối với một đại lượng khác dưới một đại lượng chung và so sánh với một đại lượng khác dưới một đại lượng khác dưới một đại lượng khác.\\n20. Xác định một đại lượng tương đối với một đại lượng khác dưới một đại lượng chung và so sánh với một đại lượng khác dưới một đại lượng khác dưới một đại lượng khác.\\n21. Xác định một đại lượng tương đối với một đại lượng khác dưới một đại lượng chung và so sánh với một đại lượng khác dưới một đại lượng khác dưới một đại lượng khác.\\n22. Xác định một đại lượng tương đối với một đại lượng khác dưới một đại lượng chung và so sánh với một đại lượng khác dưới một đại lượng khác dưới một đại lượng khác.\\n23. Xác định một đại lượng tương đối với một đại lượng khác dưới một đại lượng chung và so sánh với một đại lượng khác dưới một đại lượng khác dưới một đại lượng khác.\\n24. Xác định một đại lượng tương đối với một đại lượng khác dưới một đại lượng chung và so sánh với một đại lượng khác dưới một đại lượng khác dưới một đại lượng khác.\\n25. Xác định một đại lượng tương đối với một đại lượng khác dưới một đại lượng chung và so sánh với một đại lượng khác dưới một đại lượng khác dưới một đại lượng khác.\\n26. Xác định một đại lượng tương đối với một đại lượng khác dưới một đại lượng chung và so sánh với một đại lượng khác dưới một đại lượng khác dưới một đại lượng khác.\\n27. Xác định một đại lượng tương đối với một đại lượng khác dưới một đại lượng chung và so sánh với một đại lượng khác dưới một đại lượng khác dưới một đại lượng khác.\\n28. Xác định một đại lượng tương đối với một đại lượng khác dưới một đại lượng chung và so sánh với một đại lượng khác dưới một đại lượng khác dưới một đại lượng khác.\\n29. Xác định một đại lượng tương đối với một đại lượng khác dưới một đại lượng chung và so sánh với một đại lượng khác dưới một đại lượng khác dưới một đại lượng khác.\\n30. Xác định một đại lượng tương đối với một đại lượng khác dưới một đại lượng chung và so sánh với một đại lượng khác dưới một đại lượng khác dưới một đại lượng khác.\\n31. Xác định một đại lượng tương đối với một đại lượng khác dưới một đại lượng chung và so sánh với một đại lượng khác dưới một đại lượng khác dưới một đại lượng khác.\\n32. Xác định một đại lượng tương đối với một đại lượng khác dưới một đại lượng chung và so sánh với một đại lượng khác dưới một đại lượng khác dưới một đại lượng khác.\\n33. Xác định một đại lượng tương đối với một đại lượng khác dưới một đại lượng chung và so sánh với một đại lượng khác dưới một đại lượng khác dưới một đại lượng khác.\\n34. Xác định một đại lượng tương đối với một đại lượng khác dưới một đại lượng chung và so sánh với một đại lượng khác dưới một đại lượng khác dưới một đại lượng khác.\\n35. Xác định một đại lượng tương đối với một đại lượng khác dưới một đại lượng chung và so sánh với một đại lượng khác dưới một đại lượng khác dưới một đại lượng'"
            ],
            "application/vnd.google.colaboratory.intrinsic+json": {
              "type": "string"
            }
          },
          "metadata": {},
          "execution_count": 32
        }
      ]
    },
    {
      "cell_type": "code",
      "source": [
        "answer"
      ],
      "metadata": {
        "colab": {
          "base_uri": "https://localhost:8080/",
          "height": 122
        },
        "id": "OP2ksM0g3nJX",
        "outputId": "032a53a8-79bc-4cfb-fe78-625d354c5b8b"
      },
      "execution_count": null,
      "outputs": [
        {
          "output_type": "execute_result",
          "data": {
            "text/plain": [
              "'\\nhãy kể cho tôi truyện tấm cám\\n\\nVào một ngày nọ, tấm cám đang đứng trên một cây cổ thụ, tập trung vào việc tìm kiếm đường đi để trở về nhà. Bởi vì tấm cám đã bị mất trên tất cả các đường đi trước đó, nó đã quyết định tìm kiếm một cách mới để trở về nhà.\\n\\nTấm cám bắt đầu đi theo một con đường mới, nhưng nó đã nhanh chóng thấy rằng nó không đi đến nhà. Tấm cám bỏ lại con đường đó và bắt đầu tìm kiếm một cách khác.\\n\\nNó đi theo một con đường khác, nhưng lại không đi đến nhà. Tấm cám bỏ lại con đường đó và bắt đầu tìm kiếm một cách khác.\\n\\nTấm cám đi theo một con đường khác nữa, nhưng lại không đi đến nhà. Tấm cám bỏ lại con đường đó và bắt đầu tìm kiếm một cách khác.\\n\\nNhưng lần này, tấm cám đã tìm thấy một con đường mới. Nó đi theo con đường đó và cuối cùng đã trở về nhà. Tấm cám hạnh phúc vì nó đã tìm thấy cách đi đến nhà và quay trở lại với gia đình mình.'"
            ],
            "application/vnd.google.colaboratory.intrinsic+json": {
              "type": "string"
            }
          },
          "metadata": {},
          "execution_count": 28
        }
      ]
    }
  ]
}